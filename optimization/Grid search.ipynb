{
 "cells": [
  {
   "cell_type": "code",
   "execution_count": 1,
   "metadata": {},
   "outputs": [],
   "source": [
    "from sklearn.linear_model import Lasso\n",
    "from sklearn.model_selection import train_test_split\n",
    "from sklearn.metrics import mean_squared_error\n",
    "from sklearn.preprocessing import PolynomialFeatures\n",
    "from sklearn.model_selection import GridSearchCV\n",
    "from math import sqrt\n",
    "\n",
    "import numpy as np\n",
    "import pandas as pd"
   ]
  },
  {
   "cell_type": "code",
   "execution_count": 4,
   "metadata": {},
   "outputs": [],
   "source": [
    "admission_df = pd.read_csv(\"../data/admission_data.csv\")"
   ]
  },
  {
   "cell_type": "code",
   "execution_count": 6,
   "metadata": {},
   "outputs": [],
   "source": [
    "X = admission_df.drop(\"Chance of Admit \", axis=1)\n",
    "polynomial_transformer = PolynomialFeatures(2)\n",
    "polynomial_features = polynomial_transformer.fit_transform(X.values)\n",
    "\n",
    "features = polynomial_transformer.get_feature_names(X.columns)\n",
    "\n",
    "X = pd.DataFrame(polynomial_features, columns=features)\n",
    "y = admission_df[['Chance of Admit ']]"
   ]
  },
  {
   "cell_type": "code",
   "execution_count": 7,
   "metadata": {},
   "outputs": [],
   "source": [
    "hyper_parameter = {\n",
    "    'alpha': [0.01, 0.1, 1, 10],\n",
    "    'max_iter': [100, 500, 1000, 1500, 2000]\n",
    "}"
   ]
  },
  {
   "cell_type": "code",
   "execution_count": 8,
   "metadata": {},
   "outputs": [],
   "source": [
    "lasso_model = Lasso()"
   ]
  },
  {
   "cell_type": "code",
   "execution_count": 9,
   "metadata": {},
   "outputs": [],
   "source": [
    "hyper_parameter_tuner = GridSearchCV(lasso_model, hyper_parameter, cv=5 )"
   ]
  },
  {
   "cell_type": "code",
   "execution_count": 10,
   "metadata": {},
   "outputs": [
    {
     "name": "stderr",
     "output_type": "stream",
     "text": [
      "C:\\Users\\Gwangwon\\anaconda3\\lib\\site-packages\\sklearn\\linear_model\\_coordinate_descent.py:529: ConvergenceWarning: Objective did not converge. You might want to increase the number of iterations. Duality gap: 0.4253997472132119, tolerance: 0.0006706039000000002\n",
      "  model = cd_fast.enet_coordinate_descent(\n",
      "C:\\Users\\Gwangwon\\anaconda3\\lib\\site-packages\\sklearn\\linear_model\\_coordinate_descent.py:529: ConvergenceWarning: Objective did not converge. You might want to increase the number of iterations. Duality gap: 0.6427237098660834, tolerance: 0.0008245817750000001\n",
      "  model = cd_fast.enet_coordinate_descent(\n",
      "C:\\Users\\Gwangwon\\anaconda3\\lib\\site-packages\\sklearn\\linear_model\\_coordinate_descent.py:529: ConvergenceWarning: Objective did not converge. You might want to increase the number of iterations. Duality gap: 0.7268361771953729, tolerance: 0.0008590157750000003\n",
      "  model = cd_fast.enet_coordinate_descent(\n",
      "C:\\Users\\Gwangwon\\anaconda3\\lib\\site-packages\\sklearn\\linear_model\\_coordinate_descent.py:529: ConvergenceWarning: Objective did not converge. You might want to increase the number of iterations. Duality gap: 0.6364317724064634, tolerance: 0.0007997223999999996\n",
      "  model = cd_fast.enet_coordinate_descent(\n",
      "C:\\Users\\Gwangwon\\anaconda3\\lib\\site-packages\\sklearn\\linear_model\\_coordinate_descent.py:529: ConvergenceWarning: Objective did not converge. You might want to increase the number of iterations. Duality gap: 0.696322295460213, tolerance: 0.0008114630999999999\n",
      "  model = cd_fast.enet_coordinate_descent(\n",
      "C:\\Users\\Gwangwon\\anaconda3\\lib\\site-packages\\sklearn\\linear_model\\_coordinate_descent.py:529: ConvergenceWarning: Objective did not converge. You might want to increase the number of iterations. Duality gap: 0.41804137263725444, tolerance: 0.0006706039000000002\n",
      "  model = cd_fast.enet_coordinate_descent(\n",
      "C:\\Users\\Gwangwon\\anaconda3\\lib\\site-packages\\sklearn\\linear_model\\_coordinate_descent.py:529: ConvergenceWarning: Objective did not converge. You might want to increase the number of iterations. Duality gap: 0.6367536921074396, tolerance: 0.0008245817750000001\n",
      "  model = cd_fast.enet_coordinate_descent(\n",
      "C:\\Users\\Gwangwon\\anaconda3\\lib\\site-packages\\sklearn\\linear_model\\_coordinate_descent.py:529: ConvergenceWarning: Objective did not converge. You might want to increase the number of iterations. Duality gap: 0.7207154089253465, tolerance: 0.0008590157750000003\n",
      "  model = cd_fast.enet_coordinate_descent(\n",
      "C:\\Users\\Gwangwon\\anaconda3\\lib\\site-packages\\sklearn\\linear_model\\_coordinate_descent.py:529: ConvergenceWarning: Objective did not converge. You might want to increase the number of iterations. Duality gap: 0.6307153394423212, tolerance: 0.0007997223999999996\n",
      "  model = cd_fast.enet_coordinate_descent(\n",
      "C:\\Users\\Gwangwon\\anaconda3\\lib\\site-packages\\sklearn\\linear_model\\_coordinate_descent.py:529: ConvergenceWarning: Objective did not converge. You might want to increase the number of iterations. Duality gap: 0.6917305509775318, tolerance: 0.0008114630999999999\n",
      "  model = cd_fast.enet_coordinate_descent(\n",
      "C:\\Users\\Gwangwon\\anaconda3\\lib\\site-packages\\sklearn\\linear_model\\_coordinate_descent.py:529: ConvergenceWarning: Objective did not converge. You might want to increase the number of iterations. Duality gap: 0.3813940635033223, tolerance: 0.0006706039000000002\n",
      "  model = cd_fast.enet_coordinate_descent(\n",
      "C:\\Users\\Gwangwon\\anaconda3\\lib\\site-packages\\sklearn\\linear_model\\_coordinate_descent.py:529: ConvergenceWarning: Objective did not converge. You might want to increase the number of iterations. Duality gap: 0.6337331617287226, tolerance: 0.0008245817750000001\n",
      "  model = cd_fast.enet_coordinate_descent(\n",
      "C:\\Users\\Gwangwon\\anaconda3\\lib\\site-packages\\sklearn\\linear_model\\_coordinate_descent.py:529: ConvergenceWarning: Objective did not converge. You might want to increase the number of iterations. Duality gap: 0.7147572370410434, tolerance: 0.0008590157750000003\n",
      "  model = cd_fast.enet_coordinate_descent(\n",
      "C:\\Users\\Gwangwon\\anaconda3\\lib\\site-packages\\sklearn\\linear_model\\_coordinate_descent.py:529: ConvergenceWarning: Objective did not converge. You might want to increase the number of iterations. Duality gap: 0.6272640425010597, tolerance: 0.0007997223999999996\n",
      "  model = cd_fast.enet_coordinate_descent(\n",
      "C:\\Users\\Gwangwon\\anaconda3\\lib\\site-packages\\sklearn\\linear_model\\_coordinate_descent.py:529: ConvergenceWarning: Objective did not converge. You might want to increase the number of iterations. Duality gap: 0.6877283781941097, tolerance: 0.0008114630999999999\n",
      "  model = cd_fast.enet_coordinate_descent(\n",
      "C:\\Users\\Gwangwon\\anaconda3\\lib\\site-packages\\sklearn\\linear_model\\_coordinate_descent.py:529: ConvergenceWarning: Objective did not converge. You might want to increase the number of iterations. Duality gap: 0.3582355978961993, tolerance: 0.0006706039000000002\n",
      "  model = cd_fast.enet_coordinate_descent(\n",
      "C:\\Users\\Gwangwon\\anaconda3\\lib\\site-packages\\sklearn\\linear_model\\_coordinate_descent.py:529: ConvergenceWarning: Objective did not converge. You might want to increase the number of iterations. Duality gap: 0.6329945142204251, tolerance: 0.0008245817750000001\n",
      "  model = cd_fast.enet_coordinate_descent(\n",
      "C:\\Users\\Gwangwon\\anaconda3\\lib\\site-packages\\sklearn\\linear_model\\_coordinate_descent.py:529: ConvergenceWarning: Objective did not converge. You might want to increase the number of iterations. Duality gap: 0.7160084566094392, tolerance: 0.0008590157750000003\n",
      "  model = cd_fast.enet_coordinate_descent(\n",
      "C:\\Users\\Gwangwon\\anaconda3\\lib\\site-packages\\sklearn\\linear_model\\_coordinate_descent.py:529: ConvergenceWarning: Objective did not converge. You might want to increase the number of iterations. Duality gap: 0.6286326647079499, tolerance: 0.0007997223999999996\n",
      "  model = cd_fast.enet_coordinate_descent(\n",
      "C:\\Users\\Gwangwon\\anaconda3\\lib\\site-packages\\sklearn\\linear_model\\_coordinate_descent.py:529: ConvergenceWarning: Objective did not converge. You might want to increase the number of iterations. Duality gap: 0.6824704561525826, tolerance: 0.0008114630999999999\n",
      "  model = cd_fast.enet_coordinate_descent(\n",
      "C:\\Users\\Gwangwon\\anaconda3\\lib\\site-packages\\sklearn\\linear_model\\_coordinate_descent.py:529: ConvergenceWarning: Objective did not converge. You might want to increase the number of iterations. Duality gap: 0.3581814283368665, tolerance: 0.0006706039000000002\n",
      "  model = cd_fast.enet_coordinate_descent(\n",
      "C:\\Users\\Gwangwon\\anaconda3\\lib\\site-packages\\sklearn\\linear_model\\_coordinate_descent.py:529: ConvergenceWarning: Objective did not converge. You might want to increase the number of iterations. Duality gap: 0.5533129048474501, tolerance: 0.0008245817750000001\n",
      "  model = cd_fast.enet_coordinate_descent(\n",
      "C:\\Users\\Gwangwon\\anaconda3\\lib\\site-packages\\sklearn\\linear_model\\_coordinate_descent.py:529: ConvergenceWarning: Objective did not converge. You might want to increase the number of iterations. Duality gap: 0.7153730577890205, tolerance: 0.0008590157750000003\n",
      "  model = cd_fast.enet_coordinate_descent(\n",
      "C:\\Users\\Gwangwon\\anaconda3\\lib\\site-packages\\sklearn\\linear_model\\_coordinate_descent.py:529: ConvergenceWarning: Objective did not converge. You might want to increase the number of iterations. Duality gap: 0.6255174062346274, tolerance: 0.0007997223999999996\n",
      "  model = cd_fast.enet_coordinate_descent(\n",
      "C:\\Users\\Gwangwon\\anaconda3\\lib\\site-packages\\sklearn\\linear_model\\_coordinate_descent.py:529: ConvergenceWarning: Objective did not converge. You might want to increase the number of iterations. Duality gap: 0.667384670042577, tolerance: 0.0008114630999999999\n",
      "  model = cd_fast.enet_coordinate_descent(\n",
      "C:\\Users\\Gwangwon\\anaconda3\\lib\\site-packages\\sklearn\\linear_model\\_coordinate_descent.py:529: ConvergenceWarning: Objective did not converge. You might want to increase the number of iterations. Duality gap: 0.43607172511186926, tolerance: 0.0006706039000000002\n",
      "  model = cd_fast.enet_coordinate_descent(\n",
      "C:\\Users\\Gwangwon\\anaconda3\\lib\\site-packages\\sklearn\\linear_model\\_coordinate_descent.py:529: ConvergenceWarning: Objective did not converge. You might want to increase the number of iterations. Duality gap: 0.6627303534999364, tolerance: 0.0008245817750000001\n",
      "  model = cd_fast.enet_coordinate_descent(\n",
      "C:\\Users\\Gwangwon\\anaconda3\\lib\\site-packages\\sklearn\\linear_model\\_coordinate_descent.py:529: ConvergenceWarning: Objective did not converge. You might want to increase the number of iterations. Duality gap: 0.7354661917783779, tolerance: 0.0008590157750000003\n",
      "  model = cd_fast.enet_coordinate_descent(\n",
      "C:\\Users\\Gwangwon\\anaconda3\\lib\\site-packages\\sklearn\\linear_model\\_coordinate_descent.py:529: ConvergenceWarning: Objective did not converge. You might want to increase the number of iterations. Duality gap: 0.644938733217991, tolerance: 0.0007997223999999996\n",
      "  model = cd_fast.enet_coordinate_descent(\n",
      "C:\\Users\\Gwangwon\\anaconda3\\lib\\site-packages\\sklearn\\linear_model\\_coordinate_descent.py:529: ConvergenceWarning: Objective did not converge. You might want to increase the number of iterations. Duality gap: 0.7053024607302522, tolerance: 0.0008114630999999999\n",
      "  model = cd_fast.enet_coordinate_descent(\n",
      "C:\\Users\\Gwangwon\\anaconda3\\lib\\site-packages\\sklearn\\linear_model\\_coordinate_descent.py:529: ConvergenceWarning: Objective did not converge. You might want to increase the number of iterations. Duality gap: 0.1534100885664349, tolerance: 0.0006706039000000002\n",
      "  model = cd_fast.enet_coordinate_descent(\n",
      "C:\\Users\\Gwangwon\\anaconda3\\lib\\site-packages\\sklearn\\linear_model\\_coordinate_descent.py:529: ConvergenceWarning: Objective did not converge. You might want to increase the number of iterations. Duality gap: 0.6207512911666756, tolerance: 0.0008245817750000001\n",
      "  model = cd_fast.enet_coordinate_descent(\n",
      "C:\\Users\\Gwangwon\\anaconda3\\lib\\site-packages\\sklearn\\linear_model\\_coordinate_descent.py:529: ConvergenceWarning: Objective did not converge. You might want to increase the number of iterations. Duality gap: 0.5237184980368507, tolerance: 0.0008590157750000003\n",
      "  model = cd_fast.enet_coordinate_descent(\n",
      "C:\\Users\\Gwangwon\\anaconda3\\lib\\site-packages\\sklearn\\linear_model\\_coordinate_descent.py:529: ConvergenceWarning: Objective did not converge. You might want to increase the number of iterations. Duality gap: 0.44014746799792676, tolerance: 0.0007997223999999996\n",
      "  model = cd_fast.enet_coordinate_descent(\n"
     ]
    },
    {
     "name": "stderr",
     "output_type": "stream",
     "text": [
      "C:\\Users\\Gwangwon\\anaconda3\\lib\\site-packages\\sklearn\\linear_model\\_coordinate_descent.py:529: ConvergenceWarning: Objective did not converge. You might want to increase the number of iterations. Duality gap: 0.6479339766744376, tolerance: 0.0008114630999999999\n",
      "  model = cd_fast.enet_coordinate_descent(\n",
      "C:\\Users\\Gwangwon\\anaconda3\\lib\\site-packages\\sklearn\\linear_model\\_coordinate_descent.py:529: ConvergenceWarning: Objective did not converge. You might want to increase the number of iterations. Duality gap: 0.2814801664132611, tolerance: 0.0006706039000000002\n",
      "  model = cd_fast.enet_coordinate_descent(\n",
      "C:\\Users\\Gwangwon\\anaconda3\\lib\\site-packages\\sklearn\\linear_model\\_coordinate_descent.py:529: ConvergenceWarning: Objective did not converge. You might want to increase the number of iterations. Duality gap: 0.5805234782470171, tolerance: 0.0008245817750000001\n",
      "  model = cd_fast.enet_coordinate_descent(\n",
      "C:\\Users\\Gwangwon\\anaconda3\\lib\\site-packages\\sklearn\\linear_model\\_coordinate_descent.py:529: ConvergenceWarning: Objective did not converge. You might want to increase the number of iterations. Duality gap: 0.3755330769450969, tolerance: 0.0008590157750000003\n",
      "  model = cd_fast.enet_coordinate_descent(\n",
      "C:\\Users\\Gwangwon\\anaconda3\\lib\\site-packages\\sklearn\\linear_model\\_coordinate_descent.py:529: ConvergenceWarning: Objective did not converge. You might want to increase the number of iterations. Duality gap: 0.2548200873415647, tolerance: 0.0007997223999999996\n",
      "  model = cd_fast.enet_coordinate_descent(\n",
      "C:\\Users\\Gwangwon\\anaconda3\\lib\\site-packages\\sklearn\\linear_model\\_coordinate_descent.py:529: ConvergenceWarning: Objective did not converge. You might want to increase the number of iterations. Duality gap: 0.631865268880464, tolerance: 0.0008114630999999999\n",
      "  model = cd_fast.enet_coordinate_descent(\n",
      "C:\\Users\\Gwangwon\\anaconda3\\lib\\site-packages\\sklearn\\linear_model\\_coordinate_descent.py:529: ConvergenceWarning: Objective did not converge. You might want to increase the number of iterations. Duality gap: 0.22410745261386733, tolerance: 0.0006706039000000002\n",
      "  model = cd_fast.enet_coordinate_descent(\n",
      "C:\\Users\\Gwangwon\\anaconda3\\lib\\site-packages\\sklearn\\linear_model\\_coordinate_descent.py:529: ConvergenceWarning: Objective did not converge. You might want to increase the number of iterations. Duality gap: 0.48773319473013366, tolerance: 0.0008245817750000001\n",
      "  model = cd_fast.enet_coordinate_descent(\n",
      "C:\\Users\\Gwangwon\\anaconda3\\lib\\site-packages\\sklearn\\linear_model\\_coordinate_descent.py:529: ConvergenceWarning: Objective did not converge. You might want to increase the number of iterations. Duality gap: 0.18500142918791596, tolerance: 0.0008590157750000003\n",
      "  model = cd_fast.enet_coordinate_descent(\n",
      "C:\\Users\\Gwangwon\\anaconda3\\lib\\site-packages\\sklearn\\linear_model\\_coordinate_descent.py:529: ConvergenceWarning: Objective did not converge. You might want to increase the number of iterations. Duality gap: 0.12165472909532504, tolerance: 0.0007997223999999996\n",
      "  model = cd_fast.enet_coordinate_descent(\n",
      "C:\\Users\\Gwangwon\\anaconda3\\lib\\site-packages\\sklearn\\linear_model\\_coordinate_descent.py:529: ConvergenceWarning: Objective did not converge. You might want to increase the number of iterations. Duality gap: 0.59261162535848, tolerance: 0.0008114630999999999\n",
      "  model = cd_fast.enet_coordinate_descent(\n",
      "C:\\Users\\Gwangwon\\anaconda3\\lib\\site-packages\\sklearn\\linear_model\\_coordinate_descent.py:529: ConvergenceWarning: Objective did not converge. You might want to increase the number of iterations. Duality gap: 0.14837409686517006, tolerance: 0.0006706039000000002\n",
      "  model = cd_fast.enet_coordinate_descent(\n",
      "C:\\Users\\Gwangwon\\anaconda3\\lib\\site-packages\\sklearn\\linear_model\\_coordinate_descent.py:529: ConvergenceWarning: Objective did not converge. You might want to increase the number of iterations. Duality gap: 0.31056819628796367, tolerance: 0.0008245817750000001\n",
      "  model = cd_fast.enet_coordinate_descent(\n",
      "C:\\Users\\Gwangwon\\anaconda3\\lib\\site-packages\\sklearn\\linear_model\\_coordinate_descent.py:529: ConvergenceWarning: Objective did not converge. You might want to increase the number of iterations. Duality gap: 0.06924497432302412, tolerance: 0.0008590157750000003\n",
      "  model = cd_fast.enet_coordinate_descent(\n",
      "C:\\Users\\Gwangwon\\anaconda3\\lib\\site-packages\\sklearn\\linear_model\\_coordinate_descent.py:529: ConvergenceWarning: Objective did not converge. You might want to increase the number of iterations. Duality gap: 0.03861269270548606, tolerance: 0.0007997223999999996\n",
      "  model = cd_fast.enet_coordinate_descent(\n",
      "C:\\Users\\Gwangwon\\anaconda3\\lib\\site-packages\\sklearn\\linear_model\\_coordinate_descent.py:529: ConvergenceWarning: Objective did not converge. You might want to increase the number of iterations. Duality gap: 0.537088410063879, tolerance: 0.0008114630999999999\n",
      "  model = cd_fast.enet_coordinate_descent(\n",
      "C:\\Users\\Gwangwon\\anaconda3\\lib\\site-packages\\sklearn\\linear_model\\_coordinate_descent.py:529: ConvergenceWarning: Objective did not converge. You might want to increase the number of iterations. Duality gap: 0.20204337169084974, tolerance: 0.0006706039000000002\n",
      "  model = cd_fast.enet_coordinate_descent(\n",
      "C:\\Users\\Gwangwon\\anaconda3\\lib\\site-packages\\sklearn\\linear_model\\_coordinate_descent.py:529: ConvergenceWarning: Objective did not converge. You might want to increase the number of iterations. Duality gap: 0.6261958180810687, tolerance: 0.0008245817750000001\n",
      "  model = cd_fast.enet_coordinate_descent(\n",
      "C:\\Users\\Gwangwon\\anaconda3\\lib\\site-packages\\sklearn\\linear_model\\_coordinate_descent.py:529: ConvergenceWarning: Objective did not converge. You might want to increase the number of iterations. Duality gap: 0.7323017543307981, tolerance: 0.0008590157750000003\n",
      "  model = cd_fast.enet_coordinate_descent(\n",
      "C:\\Users\\Gwangwon\\anaconda3\\lib\\site-packages\\sklearn\\linear_model\\_coordinate_descent.py:529: ConvergenceWarning: Objective did not converge. You might want to increase the number of iterations. Duality gap: 0.6706071091856827, tolerance: 0.0007997223999999996\n",
      "  model = cd_fast.enet_coordinate_descent(\n",
      "C:\\Users\\Gwangwon\\anaconda3\\lib\\site-packages\\sklearn\\linear_model\\_coordinate_descent.py:529: ConvergenceWarning: Objective did not converge. You might want to increase the number of iterations. Duality gap: 0.2986990116758661, tolerance: 0.0008114630999999999\n",
      "  model = cd_fast.enet_coordinate_descent(\n",
      "C:\\Users\\Gwangwon\\anaconda3\\lib\\site-packages\\sklearn\\linear_model\\_coordinate_descent.py:529: ConvergenceWarning: Objective did not converge. You might want to increase the number of iterations. Duality gap: 0.14551702483244555, tolerance: 0.0006706039000000002\n",
      "  model = cd_fast.enet_coordinate_descent(\n",
      "C:\\Users\\Gwangwon\\anaconda3\\lib\\site-packages\\sklearn\\linear_model\\_coordinate_descent.py:529: ConvergenceWarning: Objective did not converge. You might want to increase the number of iterations. Duality gap: 0.07437015298563521, tolerance: 0.0006706039000000002\n",
      "  model = cd_fast.enet_coordinate_descent(\n",
      "C:\\Users\\Gwangwon\\anaconda3\\lib\\site-packages\\sklearn\\linear_model\\_coordinate_descent.py:529: ConvergenceWarning: Objective did not converge. You might want to increase the number of iterations. Duality gap: 0.03514240701899207, tolerance: 0.0006706039000000002\n",
      "  model = cd_fast.enet_coordinate_descent(\n",
      "C:\\Users\\Gwangwon\\anaconda3\\lib\\site-packages\\sklearn\\linear_model\\_coordinate_descent.py:529: ConvergenceWarning: Objective did not converge. You might want to increase the number of iterations. Duality gap: 0.016347039636717686, tolerance: 0.0006706039000000002\n",
      "  model = cd_fast.enet_coordinate_descent(\n",
      "C:\\Users\\Gwangwon\\anaconda3\\lib\\site-packages\\sklearn\\linear_model\\_coordinate_descent.py:529: ConvergenceWarning: Objective did not converge. You might want to increase the number of iterations. Duality gap: 0.16968472293032066, tolerance: 0.0008245817750000001\n",
      "  model = cd_fast.enet_coordinate_descent(\n",
      "C:\\Users\\Gwangwon\\anaconda3\\lib\\site-packages\\sklearn\\linear_model\\_coordinate_descent.py:529: ConvergenceWarning: Objective did not converge. You might want to increase the number of iterations. Duality gap: 0.18731829570898295, tolerance: 0.0008590157750000003\n",
      "  model = cd_fast.enet_coordinate_descent(\n",
      "C:\\Users\\Gwangwon\\anaconda3\\lib\\site-packages\\sklearn\\linear_model\\_coordinate_descent.py:529: ConvergenceWarning: Objective did not converge. You might want to increase the number of iterations. Duality gap: 0.025586189516663138, tolerance: 0.0007997223999999996\n",
      "  model = cd_fast.enet_coordinate_descent(\n",
      "C:\\Users\\Gwangwon\\anaconda3\\lib\\site-packages\\sklearn\\linear_model\\_coordinate_descent.py:529: ConvergenceWarning: Objective did not converge. You might want to increase the number of iterations. Duality gap: 0.031104601829447853, tolerance: 0.0008114630999999999\n",
      "  model = cd_fast.enet_coordinate_descent(\n"
     ]
    },
    {
     "name": "stderr",
     "output_type": "stream",
     "text": [
      "C:\\Users\\Gwangwon\\anaconda3\\lib\\site-packages\\sklearn\\linear_model\\_coordinate_descent.py:529: ConvergenceWarning: Objective did not converge. You might want to increase the number of iterations. Duality gap: 0.7910950882660408, tolerance: 0.0009940386200000004\n",
      "  model = cd_fast.enet_coordinate_descent(\n"
     ]
    },
    {
     "data": {
      "text/plain": [
       "GridSearchCV(cv=5, estimator=Lasso(),\n",
       "             param_grid={'alpha': [0.01, 0.1, 1, 10],\n",
       "                         'max_iter': [100, 500, 1000, 1500, 2000]})"
      ]
     },
     "execution_count": 10,
     "metadata": {},
     "output_type": "execute_result"
    }
   ],
   "source": [
    "hyper_parameter_tuner.fit(X, y)"
   ]
  },
  {
   "cell_type": "code",
   "execution_count": 12,
   "metadata": {},
   "outputs": [
    {
     "data": {
      "text/plain": [
       "{'alpha': 1, 'max_iter': 100}"
      ]
     },
     "execution_count": 12,
     "metadata": {},
     "output_type": "execute_result"
    }
   ],
   "source": [
    "hyper_parameter_tuner.best_params_"
   ]
  },
  {
   "cell_type": "code",
   "execution_count": null,
   "metadata": {},
   "outputs": [],
   "source": []
  }
 ],
 "metadata": {
  "kernelspec": {
   "display_name": "Python 3",
   "language": "python",
   "name": "python3"
  },
  "language_info": {
   "codemirror_mode": {
    "name": "ipython",
    "version": 3
   },
   "file_extension": ".py",
   "mimetype": "text/x-python",
   "name": "python",
   "nbconvert_exporter": "python",
   "pygments_lexer": "ipython3",
   "version": "3.8.5"
  }
 },
 "nbformat": 4,
 "nbformat_minor": 4
}
