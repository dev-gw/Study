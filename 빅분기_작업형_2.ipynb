{
  "nbformat": 4,
  "nbformat_minor": 0,
  "metadata": {
    "colab": {
      "name": "빅분기 작업형 2.ipynb",
      "provenance": [],
      "collapsed_sections": [],
      "authorship_tag": "ABX9TyOP/VJTXinRtoZNuwB9ngHj"
    },
    "kernelspec": {
      "name": "python3",
      "display_name": "Python 3"
    },
    "language_info": {
      "name": "python"
    }
  },
  "cells": [
    {
      "cell_type": "markdown",
      "source": [
        "#### 서비스 이탈예측 데이터"
      ],
      "metadata": {
        "id": "QSeNwV6em_Jy"
      }
    },
    {
      "cell_type": "code",
      "execution_count": null,
      "metadata": {
        "id": "XQBWwm0zQdrG"
      },
      "outputs": [],
      "source": [
        "import pandas as pd\n",
        "#데이터 로드\n",
        "x_train = pd.read_csv(\"https://raw.githubusercontent.com/Datamanim/datarepo/main/churnk/X_train.csv\")\n",
        "y_train = pd.read_csv(\"https://raw.githubusercontent.com/Datamanim/datarepo/main/churnk/y_train.csv\")\n",
        "x_test= pd.read_csv(\"https://raw.githubusercontent.com/Datamanim/datarepo/main/churnk/X_test.csv\")\n",
        "print(x_train.info())\n",
        "x_train['Gender'] = x_train['Gender'].str.lower()\n",
        "x_train['Gender'] = x_train['Gender'].str.replace(' ','')\n",
        "\n",
        "import numpy as np\n",
        "from sklearn.model_selection import train_test_split\n",
        "from sklearn.preprocessing import LabelEncoder\n",
        "\n",
        "# 불필요 열 제거\n",
        "x_train.drop(['CustomerId','Surname'],axis=1,inplace=True)\n",
        "x_test.drop(['CustomerId','Surname'],axis=1,inplace=True)\n",
        "# 범주형 처리\n",
        "x_train_ohe = pd.get_dummies(x_train)\n",
        "x_test_ohe = pd.get_dummies(x_test)\n",
        "# 표준화\n",
        "from sklearn.preprocessing import StandardScaler\n",
        "scaled_x_train = x_train_ohe.copy()\n",
        "scaled_x_test = x_test_ohe.copy()\n",
        "\n",
        "numeric_col = ['CreditScore', 'Age', 'Tenure', 'Balance', 'NumOfProducts', 'HasCrCard', 'IsActiveMember', 'EstimatedSalary']\n",
        "scaler = StandardScaler()\n",
        "scaler.fit(scaled_x_train[numeric_col])\n",
        "scaled_x_train[numeric_col] = scaler.transform(scaled_x_train[numeric_col])\n",
        "scaled_x_test[numeric_col] = scaler.transform(scaled_x_test[numeric_col])\n",
        "\n",
        "x_train, x_valid, y_train, y_valid = train_test_split(scaled_x_train,y_train['Exited'], test_size=0.2, random_state=0)\n",
        "\n",
        "from sklearn.ensemble import RandomForestClassifier\n",
        "model = RandomForestClassifier(n_estimators=1000, random_state=0)\n",
        "model.fit(x_train, y_train)\n",
        "preds = model.predict(x_test_ohe)\n",
        "\n",
        "from sklearn.metrics import roc_auc_score\n",
        "#print(roc_auc_score(y_valid, preds))\n",
        "x_test_2= pd.read_csv(\"https://raw.githubusercontent.com/Datamanim/datarepo/main/churnk/X_test.csv\")\n",
        "pd.DataFrame({'CustomerId':x_test_2['CustomerId'], 'Exited':preds}).to_csv('001.csv', index=False)\n",
        "pd.read_csv('001.csv')"
      ]
    },
    {
      "cell_type": "markdown",
      "source": [
        "#### 성인 건강검진 데이터\n",
        "* 시험환경에 맞게 한번에 코딩"
      ],
      "metadata": {
        "id": "CrFgHdVZxpHk"
      }
    },
    {
      "cell_type": "code",
      "source": [
        "import pandas as pd\n",
        "#데이터 로드\n",
        "X_train = pd.read_csv(\"https://raw.githubusercontent.com/Datamanim/datarepo/main/smoke/x_train.csv\")\n",
        "y_train = pd.read_csv(\"https://raw.githubusercontent.com/Datamanim/datarepo/main/smoke/y_train.csv\")\n",
        "X_test= pd.read_csv(\"https://raw.githubusercontent.com/Datamanim/datarepo/main/smoke/x_test.csv\")\n",
        "\n",
        "#print(X_test)\n",
        "\n",
        "cate_col = ['성별코드','구강검진수검여부','치석']\n",
        "numeric_col = [column for column in X_train.columns if column not in cate_col]\n",
        "\n",
        "# 데이터 확인\n",
        "for col in cate_col:\n",
        "  print(X_train[col].unique())\n",
        "\n",
        "# 전처리\n",
        "from sklearn.preprocessing import StandardScaler\n",
        "from sklearn.model_selection import train_test_split\n",
        "scaler = StandardScaler()\n",
        "scaler.fit(X_train[numeric_col])\n",
        "X_train[numeric_col] = scaler.transform(X_train[numeric_col])\n",
        "X_test[numeric_col] = scaler.transform(X_test[numeric_col])\n",
        "#print(X_train)\n",
        "X_data = pd.concat([X_train, X_test])\n",
        "X_data = pd.get_dummies(X_data)\n",
        "X_train = X_data[:X_train.shape[0]]\n",
        "X_test = X_data[X_train.shape[0]:]\n",
        "#print(X_train)\n",
        "X_train_2, X_valid, y_train_2, y_valid = train_test_split(X_train, y_train['흡연상태'],test_size=0.15, random_state=42) \n",
        "\n",
        "# 모델링\n",
        "from sklearn.ensemble import RandomForestClassifier\n",
        "rf_model = RandomForestClassifier(random_state=42)\n",
        "#rf_model.fit(X_train_2, y_train_2)\n",
        "#pred = rf_model.predict_proba(X_valid)[:,1]\n",
        "\n",
        "# 평가\n",
        "from sklearn.metrics import roc_auc_score\n",
        "#print(roc_auc_score(y_valid, pred))\n",
        "\n",
        "# 전체데이터 사용\n",
        "rf_model.fit(X_train, y_train['흡연상태'])\n",
        "pred = rf_model.predict_proba(X_test)[:,1]\n",
        "\n",
        "pd.DataFrame({'ID':X_test['ID'], 'Target':pred}).to_csv('수험번호.csv', index=False)"
      ],
      "metadata": {
        "colab": {
          "base_uri": "https://localhost:8080/"
        },
        "id": "fBv3mNpLxx7K",
        "outputId": "31e94098-89e8-42e3-c446-e4a1a5ce2a79"
      },
      "execution_count": null,
      "outputs": [
        {
          "output_type": "stream",
          "name": "stdout",
          "text": [
            "['F' 'M']\n",
            "['Y']\n",
            "['Y' 'N']\n"
          ]
        }
      ]
    },
    {
      "cell_type": "code",
      "source": [
        ""
      ],
      "metadata": {
        "id": "yTcEpzppx3Zg"
      },
      "execution_count": null,
      "outputs": []
    }
  ]
}