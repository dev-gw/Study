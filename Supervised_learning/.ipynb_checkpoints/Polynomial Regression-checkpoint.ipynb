{
 "cells": [
  {
   "cell_type": "code",
   "execution_count": 18,
   "metadata": {},
   "outputs": [],
   "source": [
    "from sklearn.datasets import load_boston\n",
    "from sklearn.preprocessing import PolynomialFeatures\n",
    "\n",
    "from sklearn.model_selection import train_test_split\n",
    "from sklearn.linear_model import LinearRegression\n",
    "from sklearn.metrics import mean_squared_error\n",
    "\n",
    "import pandas as pd"
   ]
  },
  {
   "cell_type": "code",
   "execution_count": 3,
   "metadata": {},
   "outputs": [],
   "source": [
    "boston_datasets = load_boston()"
   ]
  },
  {
   "cell_type": "code",
   "execution_count": 5,
   "metadata": {},
   "outputs": [
    {
     "data": {
      "text/plain": [
       "array([[6.3200e-03, 1.8000e+01, 2.3100e+00, ..., 1.5300e+01, 3.9690e+02,\n",
       "        4.9800e+00],\n",
       "       [2.7310e-02, 0.0000e+00, 7.0700e+00, ..., 1.7800e+01, 3.9690e+02,\n",
       "        9.1400e+00],\n",
       "       [2.7290e-02, 0.0000e+00, 7.0700e+00, ..., 1.7800e+01, 3.9283e+02,\n",
       "        4.0300e+00],\n",
       "       ...,\n",
       "       [6.0760e-02, 0.0000e+00, 1.1930e+01, ..., 2.1000e+01, 3.9690e+02,\n",
       "        5.6400e+00],\n",
       "       [1.0959e-01, 0.0000e+00, 1.1930e+01, ..., 2.1000e+01, 3.9345e+02,\n",
       "        6.4800e+00],\n",
       "       [4.7410e-02, 0.0000e+00, 1.1930e+01, ..., 2.1000e+01, 3.9690e+02,\n",
       "        7.8800e+00]])"
      ]
     },
     "execution_count": 5,
     "metadata": {},
     "output_type": "execute_result"
    }
   ],
   "source": [
    "boston_datasets.data"
   ]
  },
  {
   "cell_type": "code",
   "execution_count": 6,
   "metadata": {},
   "outputs": [
    {
     "data": {
      "text/plain": [
       "array(['CRIM', 'ZN', 'INDUS', 'CHAS', 'NOX', 'RM', 'AGE', 'DIS', 'RAD',\n",
       "       'TAX', 'PTRATIO', 'B', 'LSTAT'], dtype='<U7')"
      ]
     },
     "execution_count": 6,
     "metadata": {},
     "output_type": "execute_result"
    }
   ],
   "source": [
    "boston_datasets.feature_names"
   ]
  },
  {
   "cell_type": "code",
   "execution_count": 8,
   "metadata": {},
   "outputs": [],
   "source": [
    "polynomial_transformer = PolynomialFeatures(2)"
   ]
  },
  {
   "cell_type": "code",
   "execution_count": 9,
   "metadata": {},
   "outputs": [],
   "source": [
    "polynomial_data = polynomial_transformer.fit_transform(boston_datasets.data)"
   ]
  },
  {
   "cell_type": "code",
   "execution_count": 12,
   "metadata": {},
   "outputs": [
    {
     "data": {
      "text/plain": [
       "(506, 105)"
      ]
     },
     "execution_count": 12,
     "metadata": {},
     "output_type": "execute_result"
    }
   ],
   "source": [
    "polynomial_data.shape"
   ]
  },
  {
   "cell_type": "code",
   "execution_count": 13,
   "metadata": {},
   "outputs": [],
   "source": [
    "polynomial_feature_names = polynomial_transformer.get_feature_names(boston_datasets.feature_names)"
   ]
  },
  {
   "cell_type": "code",
   "execution_count": 14,
   "metadata": {},
   "outputs": [
    {
     "data": {
      "text/plain": [
       "['1',\n",
       " 'CRIM',\n",
       " 'ZN',\n",
       " 'INDUS',\n",
       " 'CHAS',\n",
       " 'NOX',\n",
       " 'RM',\n",
       " 'AGE',\n",
       " 'DIS',\n",
       " 'RAD',\n",
       " 'TAX',\n",
       " 'PTRATIO',\n",
       " 'B',\n",
       " 'LSTAT',\n",
       " 'CRIM^2',\n",
       " 'CRIM ZN',\n",
       " 'CRIM INDUS',\n",
       " 'CRIM CHAS',\n",
       " 'CRIM NOX',\n",
       " 'CRIM RM',\n",
       " 'CRIM AGE',\n",
       " 'CRIM DIS',\n",
       " 'CRIM RAD',\n",
       " 'CRIM TAX',\n",
       " 'CRIM PTRATIO',\n",
       " 'CRIM B',\n",
       " 'CRIM LSTAT',\n",
       " 'ZN^2',\n",
       " 'ZN INDUS',\n",
       " 'ZN CHAS',\n",
       " 'ZN NOX',\n",
       " 'ZN RM',\n",
       " 'ZN AGE',\n",
       " 'ZN DIS',\n",
       " 'ZN RAD',\n",
       " 'ZN TAX',\n",
       " 'ZN PTRATIO',\n",
       " 'ZN B',\n",
       " 'ZN LSTAT',\n",
       " 'INDUS^2',\n",
       " 'INDUS CHAS',\n",
       " 'INDUS NOX',\n",
       " 'INDUS RM',\n",
       " 'INDUS AGE',\n",
       " 'INDUS DIS',\n",
       " 'INDUS RAD',\n",
       " 'INDUS TAX',\n",
       " 'INDUS PTRATIO',\n",
       " 'INDUS B',\n",
       " 'INDUS LSTAT',\n",
       " 'CHAS^2',\n",
       " 'CHAS NOX',\n",
       " 'CHAS RM',\n",
       " 'CHAS AGE',\n",
       " 'CHAS DIS',\n",
       " 'CHAS RAD',\n",
       " 'CHAS TAX',\n",
       " 'CHAS PTRATIO',\n",
       " 'CHAS B',\n",
       " 'CHAS LSTAT',\n",
       " 'NOX^2',\n",
       " 'NOX RM',\n",
       " 'NOX AGE',\n",
       " 'NOX DIS',\n",
       " 'NOX RAD',\n",
       " 'NOX TAX',\n",
       " 'NOX PTRATIO',\n",
       " 'NOX B',\n",
       " 'NOX LSTAT',\n",
       " 'RM^2',\n",
       " 'RM AGE',\n",
       " 'RM DIS',\n",
       " 'RM RAD',\n",
       " 'RM TAX',\n",
       " 'RM PTRATIO',\n",
       " 'RM B',\n",
       " 'RM LSTAT',\n",
       " 'AGE^2',\n",
       " 'AGE DIS',\n",
       " 'AGE RAD',\n",
       " 'AGE TAX',\n",
       " 'AGE PTRATIO',\n",
       " 'AGE B',\n",
       " 'AGE LSTAT',\n",
       " 'DIS^2',\n",
       " 'DIS RAD',\n",
       " 'DIS TAX',\n",
       " 'DIS PTRATIO',\n",
       " 'DIS B',\n",
       " 'DIS LSTAT',\n",
       " 'RAD^2',\n",
       " 'RAD TAX',\n",
       " 'RAD PTRATIO',\n",
       " 'RAD B',\n",
       " 'RAD LSTAT',\n",
       " 'TAX^2',\n",
       " 'TAX PTRATIO',\n",
       " 'TAX B',\n",
       " 'TAX LSTAT',\n",
       " 'PTRATIO^2',\n",
       " 'PTRATIO B',\n",
       " 'PTRATIO LSTAT',\n",
       " 'B^2',\n",
       " 'B LSTAT',\n",
       " 'LSTAT^2']"
      ]
     },
     "execution_count": 14,
     "metadata": {},
     "output_type": "execute_result"
    }
   ],
   "source": [
    "polynomial_feature_names"
   ]
  },
  {
   "cell_type": "code",
   "execution_count": 22,
   "metadata": {},
   "outputs": [],
   "source": [
    "X = pd.DataFrame(polynomial_data, columns=polynomial_feature_names)"
   ]
  },
  {
   "cell_type": "code",
   "execution_count": 23,
   "metadata": {},
   "outputs": [],
   "source": [
    "y = pd.DataFrame(boston_datasets.target, columns=['MEDV'])"
   ]
  },
  {
   "cell_type": "code",
   "execution_count": 24,
   "metadata": {},
   "outputs": [],
   "source": [
    "x_train, x_test, y_train, y_test = train_test_split(X, y, test_size = 0.2, random_state=5)"
   ]
  },
  {
   "cell_type": "code",
   "execution_count": 25,
   "metadata": {},
   "outputs": [],
   "source": [
    "model = LinearRegression()"
   ]
  },
  {
   "cell_type": "code",
   "execution_count": 27,
   "metadata": {},
   "outputs": [
    {
     "data": {
      "text/plain": [
       "LinearRegression()"
      ]
     },
     "execution_count": 27,
     "metadata": {},
     "output_type": "execute_result"
    }
   ],
   "source": [
    "model.fit(x_train, y_train)"
   ]
  },
  {
   "cell_type": "code",
   "execution_count": 32,
   "metadata": {},
   "outputs": [],
   "source": [
    "y_test_prediction = model.predict(x_test)"
   ]
  },
  {
   "cell_type": "code",
   "execution_count": 33,
   "metadata": {},
   "outputs": [
    {
     "data": {
      "text/plain": [
       "3.1965276509104705"
      ]
     },
     "execution_count": 33,
     "metadata": {},
     "output_type": "execute_result"
    }
   ],
   "source": [
    "mean_squared_error(y_test, y_test_prediction) ** 0.5"
   ]
  },
  {
   "cell_type": "code",
   "execution_count": null,
   "metadata": {},
   "outputs": [],
   "source": []
  }
 ],
 "metadata": {
  "kernelspec": {
   "display_name": "Python 3",
   "language": "python",
   "name": "python3"
  },
  "language_info": {
   "codemirror_mode": {
    "name": "ipython",
    "version": 3
   },
   "file_extension": ".py",
   "mimetype": "text/x-python",
   "name": "python",
   "nbconvert_exporter": "python",
   "pygments_lexer": "ipython3",
   "version": "3.8.5"
  }
 },
 "nbformat": 4,
 "nbformat_minor": 4
}
